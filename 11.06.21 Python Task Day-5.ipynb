{
 "cells": [
  {
   "cell_type": "code",
   "execution_count": 3,
   "id": "6c395b8b",
   "metadata": {},
   "outputs": [
    {
     "name": "stdout",
     "output_type": "stream",
     "text": [
      "I'm Beautiful\n"
     ]
    }
   ],
   "source": [
    "#Task1:-Write a Python program to convert a list of characters into a string\n",
    "d=[\"I'm\",\"Beautiful\"]\n",
    "e=d[0] + ' '+ d[1]\n",
    "print(e)"
   ]
  },
  {
   "cell_type": "code",
   "execution_count": 8,
   "id": "e130cfdd",
   "metadata": {},
   "outputs": [
    {
     "name": "stdout",
     "output_type": "stream",
     "text": [
      "[2, 4]\n",
      "[1, 3, 5, 1, 1, 1]\n"
     ]
    }
   ],
   "source": [
    "#Task2:-Program to put even and odd elements in a list into two different lists\n",
    "l=[1,2,3,4,5,1,1,1]\n",
    "l1=[]\n",
    "l2=[]\n",
    "for i in l:\n",
    "    if i%2==0:\n",
    "        l1.append(i)\n",
    "    else:\n",
    "        l2.append(i)\n",
    "print(l1)\n",
    "print(l2)\n",
    "    "
   ]
  },
  {
   "cell_type": "code",
   "execution_count": 11,
   "id": "6ee937bf",
   "metadata": {},
   "outputs": [
    {
     "name": "stdout",
     "output_type": "stream",
     "text": [
      "4 3 2 1 "
     ]
    }
   ],
   "source": [
    "##Task3:-Write a Python program to remove duplicates from a list\n",
    "l=[1,2,3,4,5,6,7,4,3,2,1]\n",
    "l1=[]\n",
    "for i in l:\n",
    "    if i not in l1:\n",
    "        l1.append(i)\n",
    "    else:\n",
    "        print(i,end=' ')"
   ]
  },
  {
   "cell_type": "code",
   "execution_count": 13,
   "id": "6c81e277",
   "metadata": {},
   "outputs": [
    {
     "name": "stdout",
     "output_type": "stream",
     "text": [
      "0\n",
      "List is empty\n"
     ]
    }
   ],
   "source": [
    "##Task4:-Write a Python program to check a list is empty or not.\n",
    "b=[]\n",
    "c=len(b)\n",
    "print(c)\n",
    "if c==0:\n",
    "    print('List is empty')\n",
    "else:\n",
    "    print('List isnt empty')\n"
   ]
  },
  {
   "cell_type": "code",
   "execution_count": 16,
   "id": "2bb4f933",
   "metadata": {},
   "outputs": [
    {
     "name": "stdout",
     "output_type": "stream",
     "text": [
      "The specified list is:- [1, 2, 3, 4, 6]\n"
     ]
    }
   ],
   "source": [
    "###Task5:-Write a Python program to print a specified list after removing the 0th, 4th and 5th elements.\n",
    "l=[0,1,2,3,4,5,6,7.8]\n",
    "del l[0]\n",
    "del l[4]\n",
    "del l[5] \n",
    "print('The specified list is:-',l)"
   ]
  },
  {
   "cell_type": "code",
   "execution_count": 21,
   "id": "561b1480",
   "metadata": {},
   "outputs": [
    {
     "data": {
      "text/plain": [
       "('a', 'b')"
      ]
     },
     "execution_count": 21,
     "metadata": {},
     "output_type": "execute_result"
    }
   ],
   "source": [
    "###Task6:-Write a program to remove duplicates and print tuple except last value\n",
    "t=(\"a\",\"b\",\"c\",\"c\")\n",
    "t1=[]\n",
    "for i in t:\n",
    "    if i not in t1:\n",
    "        t1.append(i)\n",
    "tuple(t1[:-1])"
   ]
  },
  {
   "cell_type": "code",
   "execution_count": 23,
   "id": "83e887b2",
   "metadata": {},
   "outputs": [
    {
     "data": {
      "text/plain": [
       "('hi', 'are', 'you', 'from', 'north')"
      ]
     },
     "execution_count": 23,
     "metadata": {},
     "output_type": "execute_result"
    }
   ],
   "source": [
    "##Task7:-write a program to replace element by given element\n",
    "a=(\"hi\",\"are\",\"you\",\"from\",\"south\")\n",
    "b=list(a)\n",
    "b[4]='north'\n",
    "tuple(b)"
   ]
  },
  {
   "cell_type": "code",
   "execution_count": null,
   "id": "37e86dbb",
   "metadata": {},
   "outputs": [],
   "source": []
  }
 ],
 "metadata": {
  "kernelspec": {
   "display_name": "Python 3",
   "language": "python",
   "name": "python3"
  },
  "language_info": {
   "codemirror_mode": {
    "name": "ipython",
    "version": 3
   },
   "file_extension": ".py",
   "mimetype": "text/x-python",
   "name": "python",
   "nbconvert_exporter": "python",
   "pygments_lexer": "ipython3",
   "version": "3.8.8"
  }
 },
 "nbformat": 4,
 "nbformat_minor": 5
}
